{
 "cells": [
  {
   "cell_type": "code",
   "execution_count": 1,
   "metadata": {},
   "outputs": [],
   "source": [
    "import requests, json, urllib.parse\n",
    "base_url = 'https://itunes.apple.com/search'\n",
    "\n",
    "artist = ' Три дня дождя'\n",
    "\n",
    "params = {\n",
    "    'term': artist,\n",
    "    'limit': 200,    \n",
    "    'media': 'music',\n",
    "    'entity': 'song',\n",
    "    'attribute': 'artistTerm'\n",
    "}\n",
    "\n",
    "response = requests.get(f\"{base_url}?{urllib.parse.urlencode(params)}\")\n",
    "\n",
    "data = json.loads(response.text)\n",
    "data = data['results']"
   ]
  },
  {
   "cell_type": "code",
   "execution_count": 10,
   "metadata": {},
   "outputs": [
    {
     "name": "stdout",
     "output_type": "stream",
     "text": [
      "{'Hip-Hop/Rap', 'Alternative', 'Alternative Rap', 'Rock', 'Pop/Rock', 'Pop Punk'}\n"
     ]
    }
   ],
   "source": [
    "data = map(lambda x: {\n",
    "    'artistName': x['artistName'],\n",
    "    'kind' : x['kind'],\n",
    "    'artistId': x['artistId'],\n",
    "    'collectionId': x['collectionId'],\n",
    "    'trackId': x['trackId'],\n",
    "    'artistName': x['artistName'],\n",
    "    'collectionName': x['collectionName'],\n",
    "    'trackName': x['trackName'],\n",
    "    'trackPrice': x['trackPrice'],\n",
    "    'releaseDate': x['releaseDate'],\n",
    "    'trackCount': x['trackCount'],\n",
    "    'trackTimeMillis': x['trackTimeMillis'],\n",
    "    'primaryGenreName': x['primaryGenreName']\n",
    "}, data)\n",
    "data = list(data)\n",
    "print(set(map(lambda x: x['primaryGenreName'], data)))"
   ]
  },
  {
   "cell_type": "code",
   "execution_count": 3,
   "metadata": {},
   "outputs": [],
   "source": [
    "def convert_millis(millis: int) -> str:\n",
    "    total_seconds = millis // 1000\n",
    "    seconds = total_seconds % 60\n",
    "    minutes = (total_seconds // 60) % 60\n",
    "    hours = (total_seconds // (60 * 60))\n",
    "    return f\"{hours}:Hours,{minutes}:Minutes,{seconds}:Seconds\"\n",
    "\n",
    "def filter_list(items, value):\n",
    "    has_more = items.count(value) > 1\n",
    "    return [x for x in items if not (x == value and has_more)]"
   ]
  },
  {
   "cell_type": "code",
   "execution_count": 4,
   "metadata": {},
   "outputs": [],
   "source": [
    "import statistics\n",
    "\n",
    "countOfSongs = len(list(map(lambda x: x['trackName'], data)))\n",
    "dataGenre = (list((map(lambda x: x['primaryGenreName'], data))))\n",
    "dataAlbums = len(list(set(map(lambda x: x['collectionId'], data))))\n",
    "songsDuration = sum(list(map(lambda x : x['trackTimeMillis'],data)))\n",
    "\n",
    "Average_time = statistics.mean(list(map(lambda x : x['trackTimeMillis'],data)))\n",
    "median_time = list(map(lambda x : x['trackTimeMillis'],data))\n",
    "median_time.sort()\n",
    "median_time = statistics.median(median_time)\n",
    "\n",
    "songsCost = sum(filter_list(list(map(lambda x: x['trackPrice'], data)),-1))\n",
    "Average_cost = statistics.mean(filter_list(list(map(lambda x: x['trackPrice'], data)),-1))\n",
    "median_cost = filter_list(list(map(lambda x: x['trackPrice'], data)),-1)\n",
    "median_cost.sort()\n",
    "median_cost = statistics.median(median_cost)\n",
    "\n",
    "time_extractor = lambda x: x['trackTimeMillis']\n",
    "\n",
    "longest_song = max(data, key=time_extractor)\n",
    "shortest_song = min(data, key=time_extractor)\n",
    "\n",
    "track_price_extractor = lambda x: x['trackPrice']\n",
    "\n",
    "dearest_song = max(data, key=track_price_extractor)\n",
    "\n",
    "сheapest_song = min(data, key=track_price_extractor)\n"
   ]
  },
  {
   "cell_type": "code",
   "execution_count": 14,
   "metadata": {},
   "outputs": [
    {
     "name": "stdout",
     "output_type": "stream",
     "text": [
      "Artist:  Три дня дождя\n",
      "Number of songs: 63\n",
      "Popular genre: Hip-Hop/Rap - 28\n",
      "Album count: 36\n",
      "Total duration of songs: 3:Hours,12:Minutes,34:Seconds\n",
      "Average duration of songs: 0.0:Hours,3.0:Minutes,3.0:Seconds\n",
      "Median duration of songs: 0:Hours,3:Minutes,3:Seconds\n",
      "Longest song: Выдыхай 0:Hours,4:Minutes,1:Seconds\n",
      "Shortest song: 3ДД 0:Hours,2:Minutes,2:Seconds\n",
      "Total cost of songs ≈  80 $\n",
      "Average cost of songs: 1.2661904761904763 $\n",
      "Median cost of songs: 1.29 $\n",
      "The most expensive song: Не Киряй Trackrpice: 1.29\n",
      "Сheapest song: больше не буду (feat. Три дня дождя) Track price: 0.69\n"
     ]
    }
   ],
   "source": [
    "\n",
    "print('Artist:',artist)\n",
    "\n",
    "print('Number of songs:',countOfSongs)\n",
    "\n",
    "print('Popular genre:','Alternative -',dataGenre.count('Alternative'))\n",
    "\n",
    "print('Album count:',dataAlbums)\n",
    "\n",
    "print('Total duration of songs:',convert_millis(songsDuration))\n",
    "\n",
    "print('Average duration of songs:',convert_millis(Average_time))\n",
    "\n",
    "print('Median duration of songs:',convert_millis(median_time))\n",
    "\n",
    "print('Longest song:', longest_song['trackName'], convert_millis(longest_song['trackTimeMillis']))\n",
    "\n",
    "print('Shortest song:', shortest_song['trackName'], convert_millis(shortest_song['trackTimeMillis']))\n",
    "\n",
    "print('Total cost of songs ≈ ',round(songsCost),'$')\n",
    "\n",
    "print('Average cost of songs:',Average_cost,'$')\n",
    "\n",
    "print('Median cost of songs:',median_cost,'$')\n",
    "\n",
    "print('The most expensive song:', dearest_song['trackName'],'Trackrpice:',dearest_song['trackPrice'])\n",
    "\n",
    "print('Сheapest song:', сheapest_song['trackName'],'Track price:',сheapest_song['trackPrice'])\n",
    "    \n"
   ]
  },
  {
   "cell_type": "code",
   "execution_count": 6,
   "metadata": {},
   "outputs": [
    {
     "name": "stdout",
     "output_type": "stream",
     "text": [
      "{1480557211: 'Цирк восходящего солнца', 1492904530: 'Красота - Single', 1498433828: 'Любовь, аддикция и марафоны', 1499332397: 'Не Киряй - Single', 1502714805: 'Мои друзья - Single', 1509347032: 'Bye-Bye - Single', 1515124756: 'В моём доме только ты и пистолет', 1524767618: 'Беги от меня - Single', 1528013354: 'Тебя любить - Single', 1531845994: 'Траблы - Single', 1534319576: 'Привычка - Single', 1536409555: 'Пепел - EP', 1539425080: 'INFINITY', 1546605271: 'Если я умру - Single', 1554098149: 'Космос - Single', 1555503895: 'Где ты - Single', 1557915233: 'Sad Pizza Club', 1561787029: 'Всё из-за тебя - Single', 1566105847: 'Милая девочка (Три дня дождя Remix) - Single', 1567864054: 'Когда ты откроешь глаза', 1572889084: 'До утра - Single', 1577177369: 'Малолетки - Single', 1582092172: 'Part of Me - Single', 1590237790: 'Не стой на ветру (feat. Три дня дождя) - Single', 1609315935: 'Вина - Single', 1609598482: 'Проба Пера', 1612231333: 'Выдыхай - Single', 1619554698: 'Бардо', 1620003458: 'Отпускай - Single', 1635136140: 'Я и одиночество - Single', 1636524348: 'Смирился и расслабился', 1640508477: '13 причин почему', 1640686792: 'g.o.a.t. uslugi', 1641885026: 'Ex - Single', 1644128394: 'One but not always - EP', 1646472882: 'Venlow - EP'}\n"
     ]
    }
   ],
   "source": [
    "from itertools import groupby\n",
    "\n",
    "collection_id_extractor = lambda x: x['collectionId']\n",
    "\n",
    "sorted_by_album = sorted(data, key=collection_id_extractor)\n",
    "album_groups = {}\n",
    "album_names = {}\n",
    "\n",
    "for album_id, songs in groupby(sorted_by_album, key=collection_id_extractor):\n",
    "    songs = list(songs)\n",
    "    album_groups[album_id] = songs \n",
    "    album_names[album_id] = songs[0]['collectionName']\n",
    "\n",
    "del sorted_by_album\n",
    "\n",
    "print(album_names)\n"
   ]
  },
  {
   "cell_type": "code",
   "execution_count": 8,
   "metadata": {},
   "outputs": [],
   "source": [
    "\n",
    "album_name = album_names[1567864054]\n",
    "album_values= list(album_groups[1567864054])\n",
    "\n",
    "album_songs_count = len(list(set(map(lambda x: x['trackId'], album_values))))\n",
    "dataGenre_Album = (list((map(lambda x: x['primaryGenreName'], album_values))))\n",
    "releaseDate_Album = list(set(map(lambda x: x['releaseDate'], album_values)))\n",
    "\n",
    "songsDuration_Album = sum(list(map(lambda x : x['trackTimeMillis'],album_values)))\n",
    "Average_time_Album = statistics.mean(list(map(lambda x : x['trackTimeMillis'],album_values)))\n",
    "median_time_Album = list(map(lambda x : x['trackTimeMillis'],album_values))\n",
    "median_time_Album.sort()\n",
    "median_time_Album = statistics.median(median_time_Album)\n",
    "\n",
    "longest_song_Album = max(album_values, key=time_extractor)\n",
    "shortest_song_Album = min(album_values, key=time_extractor)\n",
    "\n",
    "dearest_song_Album = max(album_values, key=track_price_extractor)\n",
    "сheapest_song_Album = min(album_values, key=track_price_extractor)\n",
    "\n",
    "songsCost_Album = sum(filter_list(list(map(lambda x: x['trackPrice'], album_values)),-1))\n",
    "Average_cost_Album = statistics.mean(filter_list(list(map(lambda x: x['trackPrice'], album_values)),-1))\n",
    "median_cost_Album = filter_list(list(map(lambda x: x['trackPrice'], album_values)),-1)\n",
    "median_cost_Album.sort()\n",
    "median_cost_Album = statistics.median(median_cost_Album)\n"
   ]
  },
  {
   "cell_type": "code",
   "execution_count": 22,
   "metadata": {},
   "outputs": [
    {
     "name": "stdout",
     "output_type": "stream",
     "text": [
      "Album name: Когда ты откроешь глаза\n",
      "Count of songs: 11\n",
      "Most popular genre count: Rock - 11\n",
      "Album release date :  2021-03-09T12:00:00Z 2021-06-04T12:00:00Z 2021-05-28T07:00:00Z 2021-04-16T12:00:00Z\n",
      "Songs Duration: 0:Hours,33:Minutes,0:Seconds\n",
      "Average time: 0.0:Hours,3.0:Minutes,0.0:Seconds\n",
      "Median duration songs: 0:Hours,3:Minutes,2:Seconds\n",
      "Longest song: Космос 0:Hours,3:Minutes,31:Seconds\n",
      "Shortest song: Где ты 0:Hours,2:Minutes,22:Seconds\n",
      "Total cost of songs ≈  14 $\n",
      "Average cost: 1.29 $\n",
      "Median cost songs: 1.29 $\n",
      "The most expensive song: Вода Trackrpice: 1.29\n",
      "Сheapest song: Вода Track price: 1.29\n"
     ]
    }
   ],
   "source": [
    "print('Album name:',album_name)\n",
    "\n",
    "print('Count of songs:',album_songs_count)\n",
    "\n",
    "print('Most popular genre count:','Rock -',dataGenre_Album.count('Rock'))\n",
    "\n",
    "print('Album release date : ',*releaseDate_Album)\n",
    "\n",
    "print('Songs Duration:',convert_millis(songsDuration_Album))\n",
    "\n",
    "print('Average time:',convert_millis(Average_time_Album))\n",
    "\n",
    "print('Median duration songs:',convert_millis(median_time_Album))\n",
    "\n",
    "print('Longest song:', longest_song_Album['trackName'], convert_millis(longest_song_Album['trackTimeMillis']))\n",
    "\n",
    "print('Shortest song:', shortest_song_Album['trackName'], convert_millis(shortest_song_Album['trackTimeMillis']))\n",
    "\n",
    "print('Total cost of songs ≈ ',round(songsCost_Album),'$')\n",
    "\n",
    "print('Average cost:',Average_cost_Album,'$')\n",
    "\n",
    "print('Median cost songs:',median_cost_Album,'$')\n",
    "\n",
    "print('The most expensive song:', dearest_song_Album['trackName'],'Trackrpice:',dearest_song_Album['trackPrice'])\n",
    "\n",
    "print('Сheapest song:', сheapest_song_Album['trackName'],'Track price:',сheapest_song_Album['trackPrice'])"
   ]
  }
 ],
 "metadata": {
  "kernelspec": {
   "display_name": "Python 3.10.8 64-bit (microsoft store)",
   "language": "python",
   "name": "python3"
  },
  "language_info": {
   "codemirror_mode": {
    "name": "ipython",
    "version": 3
   },
   "file_extension": ".py",
   "mimetype": "text/x-python",
   "name": "python",
   "nbconvert_exporter": "python",
   "pygments_lexer": "ipython3",
   "version": "3.10.8"
  },
  "orig_nbformat": 4,
  "vscode": {
   "interpreter": {
    "hash": "1f5d35a149c38202697f9963d0e5598b880d200db9aed899093823bf590338e0"
   }
  }
 },
 "nbformat": 4,
 "nbformat_minor": 2
}
